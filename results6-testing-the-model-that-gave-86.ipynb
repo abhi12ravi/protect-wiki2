{
 "cells": [
  {
   "cell_type": "markdown",
   "metadata": {},
   "source": [
    "# Testing the model which gave 86 % accuracy"
   ]
  },
  {
   "cell_type": "code",
   "execution_count": 1,
   "metadata": {},
   "outputs": [],
   "source": [
    "import pickle\n",
    "# load the model from disk\n",
    "model_filename = \"models/model_86.sav\"\n",
    "loaded_model = pickle.load(open(model_filename, 'rb'))"
   ]
  },
  {
   "cell_type": "code",
   "execution_count": null,
   "metadata": {},
   "outputs": [],
   "source": [
    "def get_testset():\n",
    "    filepath = \"dataset/balanced_dataset2.csv\"\n",
    "    df = pd.read_csv(filepath)\n",
    "    X_test = \n",
    "    y_test = "
   ]
  },
  {
   "cell_type": "markdown",
   "metadata": {},
   "source": [
    "## Prepare the file contaning features and class labels (pre-processing)"
   ]
  },
  {
   "cell_type": "markdown",
   "metadata": {},
   "source": [
    "## Open the dataset and split into train and test"
   ]
  },
  {
   "cell_type": "code",
   "execution_count": 13,
   "metadata": {},
   "outputs": [],
   "source": [
    "import pandas as pd \n",
    "import numpy as np\n",
    "\n",
    "df = pd.read_csv(\"good-features/processed-features.csv\")\n",
    "\n",
    "# Labels are the values we want to predict\n",
    "labels = np.array(df['label'])\n",
    "\n",
    "# Remove the labels from the features\n",
    "# axis 1 refers to the columns\n",
    "features = df.drop('label', axis = 1)\n",
    "\n",
    "features = np.array(features)\n",
    "\n",
    "# Using Skicit-learn to split data into training and testing sets\n",
    "from sklearn.model_selection import train_test_split\n",
    "# Split the data into training and testing sets\n",
    "train_features, test_features, train_labels, test_labels = train_test_split(features, labels, test_size = 0.20, random_state = 53)"
   ]
  },
  {
   "cell_type": "markdown",
   "metadata": {},
   "source": [
    "# Test the loadedmodel using split test set"
   ]
  },
  {
   "cell_type": "code",
   "execution_count": 6,
   "metadata": {},
   "outputs": [
    {
     "name": "stderr",
     "output_type": "stream",
     "text": [
      "100%|██████████████████████████████████████████████████████████████████████████████████| 29/29 [00:02<00:00, 12.07it/s]\n"
     ]
    }
   ],
   "source": [
    "from lazypredict.Supervised import LazyClassifier\n",
    "clf = LazyClassifier(verbose=0,ignore_warnings=True, custom_metric=None)\n",
    "models,predictions = clf.fit(train_features, test_features, train_labels, test_labels)"
   ]
  },
  {
   "cell_type": "code",
   "execution_count": 7,
   "metadata": {},
   "outputs": [
    {
     "name": "stdout",
     "output_type": "stream",
     "text": [
      "                               Accuracy  Balanced Accuracy ROC AUC  F1 Score  \\\n",
      "Model                                                                          \n",
      "LGBMClassifier                     0.64               0.63    None      0.64   \n",
      "ExtraTreesClassifier               0.63               0.62    None      0.62   \n",
      "XGBClassifier                      0.62               0.62    None      0.62   \n",
      "LogisticRegression                 0.59               0.60    None      0.58   \n",
      "PassiveAggressiveClassifier        0.59               0.59    None      0.58   \n",
      "LinearDiscriminantAnalysis         0.58               0.58    None      0.57   \n",
      "RandomForestClassifier             0.58               0.58    None      0.58   \n",
      "LinearSVC                          0.57               0.58    None      0.56   \n",
      "CalibratedClassifierCV             0.56               0.57    None      0.55   \n",
      "RidgeClassifier                    0.56               0.56    None      0.55   \n",
      "BaggingClassifier                  0.56               0.56    None      0.55   \n",
      "DecisionTreeClassifier             0.55               0.55    None      0.55   \n",
      "RidgeClassifierCV                  0.55               0.55    None      0.54   \n",
      "Perceptron                         0.54               0.54    None      0.51   \n",
      "KNeighborsClassifier               0.53               0.54    None      0.52   \n",
      "NuSVC                              0.52               0.53    None      0.49   \n",
      "SVC                                0.52               0.52    None      0.49   \n",
      "NearestCentroid                    0.53               0.52    None      0.50   \n",
      "ExtraTreeClassifier                0.52               0.51    None      0.52   \n",
      "AdaBoostClassifier                 0.51               0.51    None      0.49   \n",
      "QuadraticDiscriminantAnalysis      0.48               0.50    None      0.44   \n",
      "LabelPropagation                   0.50               0.50    None      0.48   \n",
      "LabelSpreading                     0.50               0.49    None      0.48   \n",
      "BernoulliNB                        0.50               0.49    None      0.46   \n",
      "SGDClassifier                      0.45               0.45    None      0.42   \n",
      "GaussianNB                         0.40               0.41    None      0.32   \n",
      "DummyClassifier                    0.23               0.24    None      0.23   \n",
      "\n",
      "                               Time Taken  \n",
      "Model                                      \n",
      "LGBMClassifier                       0.22  \n",
      "ExtraTreesClassifier                 0.19  \n",
      "XGBClassifier                        0.17  \n",
      "LogisticRegression                   0.06  \n",
      "PassiveAggressiveClassifier          0.02  \n",
      "LinearDiscriminantAnalysis           0.02  \n",
      "RandomForestClassifier               0.31  \n",
      "LinearSVC                            0.12  \n",
      "CalibratedClassifierCV               0.65  \n",
      "RidgeClassifier                      0.02  \n",
      "BaggingClassifier                    0.08  \n",
      "DecisionTreeClassifier               0.01  \n",
      "RidgeClassifierCV                    0.02  \n",
      "Perceptron                           0.02  \n",
      "KNeighborsClassifier                 0.02  \n",
      "NuSVC                                0.10  \n",
      "SVC                                  0.04  \n",
      "NearestCentroid                      0.01  \n",
      "ExtraTreeClassifier                  0.02  \n",
      "AdaBoostClassifier                   0.12  \n",
      "QuadraticDiscriminantAnalysis        0.02  \n",
      "LabelPropagation                     0.04  \n",
      "LabelSpreading                       0.05  \n",
      "BernoulliNB                          0.02  \n",
      "SGDClassifier                        0.03  \n",
      "GaussianNB                           0.01  \n",
      "DummyClassifier                      0.01  \n"
     ]
    }
   ],
   "source": [
    "print(models)"
   ]
  },
  {
   "cell_type": "code",
   "execution_count": 8,
   "metadata": {},
   "outputs": [
    {
     "name": "stdout",
     "output_type": "stream",
     "text": [
      "XGBClassifier(base_score=0.5, booster='gbtree', colsample_bylevel=1,\n",
      "              colsample_bynode=1, colsample_bytree=1, gamma=0, gpu_id=-1,\n",
      "              importance_type='gain', interaction_constraints='',\n",
      "              learning_rate=0.300000012, max_delta_step=0, max_depth=6,\n",
      "              min_child_weight=1, missing=nan, monotone_constraints='()',\n",
      "              n_estimators=100, n_jobs=0, num_parallel_tree=1,\n",
      "              objective='multi:softprob', random_state=0, reg_alpha=0,\n",
      "              reg_lambda=1, scale_pos_weight=None, subsample=1,\n",
      "              tree_method='exact', validate_parameters=1, verbosity=None)\n"
     ]
    }
   ],
   "source": [
    "print(loaded_model)"
   ]
  },
  {
   "cell_type": "code",
   "execution_count": 12,
   "metadata": {},
   "outputs": [
    {
     "name": "stdout",
     "output_type": "stream",
     "text": [
      "Accuracy: 29.34%\n"
     ]
    }
   ],
   "source": [
    "y_pred = loaded_model.predict(test_features)\n",
    "\n",
    "from sklearn.metrics import accuracy_score\n",
    "\n",
    "accuracy = accuracy_score(test_labels, predictions)\n",
    "\n",
    "print(\"Accuracy: %.2f%%\" % (accuracy * 100.0))"
   ]
  },
  {
   "cell_type": "code",
   "execution_count": 14,
   "metadata": {},
   "outputs": [
    {
     "data": {
      "text/plain": [
       "array([1, 3, 2, 0, 2, 3, 3, 2, 1, 1, 0, 0, 2, 2, 0, 3, 0, 0, 0, 0, 0, 1,\n",
       "       2, 0, 1, 3, 0, 3, 2, 0, 3, 3, 2, 3, 3, 3, 0, 3, 2, 0, 2, 1, 1, 0,\n",
       "       1, 1, 0, 2, 0, 0, 1, 0, 3, 0, 3, 3, 2, 1, 0, 2, 3, 0, 0, 3, 1, 1,\n",
       "       1, 3, 2, 0, 1, 3, 0, 3, 2, 3, 2, 2, 3, 3, 1, 2, 3, 1, 3, 0, 2, 2,\n",
       "       2, 3, 2, 0, 1, 0, 1, 1, 1, 2, 2, 3, 2, 0, 2, 2, 1, 3, 2, 1, 2, 2,\n",
       "       3, 2, 3, 0, 2, 1, 1, 3, 0, 3, 2, 2, 1, 2, 2, 1, 1, 3, 2, 1, 2, 0,\n",
       "       3, 1, 1, 1, 0, 3, 3, 3, 2, 1, 2, 1, 0, 3, 0, 2, 0, 1, 2, 3, 1, 2,\n",
       "       1, 0, 0, 0, 1, 2, 2, 0, 2, 3, 1, 0, 0])"
      ]
     },
     "execution_count": 14,
     "metadata": {},
     "output_type": "execute_result"
    }
   ],
   "source": [
    "y_pred"
   ]
  },
  {
   "cell_type": "code",
   "execution_count": 16,
   "metadata": {},
   "outputs": [
    {
     "data": {
      "text/plain": [
       "array([1, 0, 3, 0, 1, 3, 2, 0, 1, 1, 1, 2, 2, 3, 3, 1, 3, 2, 0, 3, 2, 3,\n",
       "       2, 2, 1, 0, 3, 2, 1, 3, 3, 3, 2, 0, 2, 3, 2, 1, 0, 0, 0, 3, 3, 2,\n",
       "       3, 0, 2, 0, 0, 1, 3, 3, 3, 1, 2, 2, 0, 3, 2, 0, 2, 0, 3, 0, 1, 0,\n",
       "       1, 0, 0, 0, 3, 2, 1, 2, 2, 3, 3, 2, 0, 1, 3, 0, 3, 0, 2, 3, 0, 2,\n",
       "       0, 2, 3, 1, 3, 3, 3, 2, 1, 1, 2, 2, 1, 0, 0, 0, 0, 0, 0, 3, 0, 1,\n",
       "       3, 2, 0, 3, 3, 1, 1, 0, 1, 3, 3, 3, 2, 3, 3, 1, 0, 0, 2, 1, 3, 3,\n",
       "       1, 0, 1, 0, 2, 2, 0, 1, 1, 2, 1, 2, 2, 2, 0, 2, 0, 2, 1, 3, 0, 3,\n",
       "       0, 0, 2, 0, 1, 1, 2, 3, 1, 3, 3, 1, 1], dtype=int64)"
      ]
     },
     "execution_count": 16,
     "metadata": {},
     "output_type": "execute_result"
    }
   ],
   "source": [
    "test_labels"
   ]
  },
  {
   "cell_type": "code",
   "execution_count": null,
   "metadata": {},
   "outputs": [],
   "source": []
  }
 ],
 "metadata": {
  "kernelspec": {
   "display_name": "Python 3",
   "language": "python",
   "name": "python3"
  },
  "language_info": {
   "codemirror_mode": {
    "name": "ipython",
    "version": 3
   },
   "file_extension": ".py",
   "mimetype": "text/x-python",
   "name": "python",
   "nbconvert_exporter": "python",
   "pygments_lexer": "ipython3",
   "version": "3.8.5"
  }
 },
 "nbformat": 4,
 "nbformat_minor": 4
}
