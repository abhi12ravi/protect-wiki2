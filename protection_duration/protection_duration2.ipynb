{
 "cells": [
  {
   "cell_type": "code",
   "execution_count": 9,
   "metadata": {},
   "outputs": [
    {
     "name": "stderr",
     "output_type": "stream",
     "text": [
      " 21%|█████████████████▊                                                                 | 9/42 [00:00<00:04,  7.98it/s]"
     ]
    },
    {
     "name": "stdout",
     "output_type": "stream",
     "text": [
      "GammaRegressor model failed to execute\n",
      "Some value(s) of y are out of the valid range for family GammaDistribution\n"
     ]
    },
    {
     "name": "stderr",
     "output_type": "stream",
     "text": [
      " 69%|████████████████████████████████████████████████████████▌                         | 29/42 [00:09<00:07,  1.81it/s]"
     ]
    },
    {
     "name": "stdout",
     "output_type": "stream",
     "text": [
      "OrthogonalMatchingPursuitCV model failed to execute\n",
      "Found array with 1 feature(s) (shape=(1829, 1)) while a minimum of 2 is required by OrthogonalMatchingPursuitCV.\n",
      "PoissonRegressor model failed to execute\n",
      "Some value(s) of y are out of the valid range for family PoissonDistribution\n"
     ]
    },
    {
     "name": "stderr",
     "output_type": "stream",
     "text": [
      "100%|██████████████████████████████████████████████████████████████████████████████████| 42/42 [00:10<00:00,  4.00it/s]"
     ]
    },
    {
     "name": "stdout",
     "output_type": "stream",
     "text": [
      "                               Adjusted R-Squared  R-Squared   RMSE  \\\n",
      "Model                                                                 \n",
      "ExtraTreesRegressor                          1.00       1.00   2.17   \n",
      "RandomForestRegressor                        1.00       1.00   3.60   \n",
      "XGBRegressor                                 1.00       1.00   4.09   \n",
      "DecisionTreeRegressor                        1.00       1.00   4.45   \n",
      "GradientBoostingRegressor                    1.00       1.00   4.61   \n",
      "BaggingRegressor                             1.00       1.00   5.77   \n",
      "ExtraTreeRegressor                           1.00       1.00   7.40   \n",
      "KNeighborsRegressor                          1.00       1.00   8.76   \n",
      "GaussianProcessRegressor                     0.99       0.99  24.43   \n",
      "HistGradientBoostingRegressor                0.99       0.99  32.33   \n",
      "AdaBoostRegressor                            0.99       0.99  32.68   \n",
      "LGBMRegressor                                0.99       0.99  34.39   \n",
      "MLPRegressor                                 0.66       0.66 175.90   \n",
      "SGDRegressor                                 0.61       0.61 189.14   \n",
      "OrthogonalMatchingPursuit                    0.61       0.61 189.44   \n",
      "TransformedTargetRegressor                   0.61       0.61 189.44   \n",
      "Lars                                         0.61       0.61 189.44   \n",
      "LarsCV                                       0.61       0.61 189.44   \n",
      "LassoLarsCV                                  0.61       0.61 189.44   \n",
      "LassoLarsIC                                  0.61       0.61 189.44   \n",
      "LinearRegression                             0.61       0.61 189.44   \n",
      "BayesianRidge                                0.61       0.61 189.44   \n",
      "Ridge                                        0.61       0.61 189.45   \n",
      "RidgeCV                                      0.61       0.61 189.45   \n",
      "LassoCV                                      0.61       0.61 189.45   \n",
      "Lasso                                        0.61       0.61 189.52   \n",
      "ElasticNetCV                                 0.58       0.58 196.61   \n",
      "LassoLars                                    0.57       0.57 197.51   \n",
      "ElasticNet                                   0.52       0.52 208.75   \n",
      "SVR                                          0.48       0.49 216.93   \n",
      "NuSVR                                        0.48       0.48 217.23   \n",
      "HuberRegressor                               0.45       0.46 223.18   \n",
      "TweedieRegressor                             0.44       0.44 226.86   \n",
      "GeneralizedLinearRegressor                   0.44       0.44 226.86   \n",
      "PassiveAggressiveRegressor                   0.43       0.44 227.22   \n",
      "LinearSVR                                    0.39       0.39 235.63   \n",
      "RANSACRegressor                              0.32       0.33 248.21   \n",
      "KernelRidge                                  0.11       0.11 284.80   \n",
      "DummyRegressor                              -0.01      -0.00 303.05   \n",
      "\n",
      "                               Time Taken  \n",
      "Model                                      \n",
      "ExtraTreesRegressor                  0.47  \n",
      "RandomForestRegressor                0.53  \n",
      "XGBRegressor                         0.17  \n",
      "DecisionTreeRegressor                0.02  \n",
      "GradientBoostingRegressor            0.20  \n",
      "BaggingRegressor                     0.07  \n",
      "ExtraTreeRegressor                   0.03  \n",
      "KNeighborsRegressor                  0.03  \n",
      "GaussianProcessRegressor             0.79  \n",
      "HistGradientBoostingRegressor        1.44  \n",
      "AdaBoostRegressor                    0.20  \n",
      "LGBMRegressor                        0.12  \n",
      "MLPRegressor                         4.82  \n",
      "SGDRegressor                         0.03  \n",
      "OrthogonalMatchingPursuit            0.01  \n",
      "TransformedTargetRegressor           0.01  \n",
      "Lars                                 0.02  \n",
      "LarsCV                               0.03  \n",
      "LassoLarsCV                          0.02  \n",
      "LassoLarsIC                          0.02  \n",
      "LinearRegression                     0.02  \n",
      "BayesianRidge                        0.01  \n",
      "Ridge                                0.02  \n",
      "RidgeCV                              0.02  \n",
      "LassoCV                              0.14  \n",
      "Lasso                                0.02  \n",
      "ElasticNetCV                         0.14  \n",
      "LassoLars                            0.02  \n",
      "ElasticNet                           0.02  \n",
      "SVR                                  0.30  \n",
      "NuSVR                                0.27  \n",
      "HuberRegressor                       0.03  \n",
      "TweedieRegressor                     0.02  \n",
      "GeneralizedLinearRegressor           0.02  \n",
      "PassiveAggressiveRegressor           0.02  \n",
      "LinearSVR                            0.02  \n",
      "RANSACRegressor                      0.02  \n",
      "KernelRidge                          0.30  \n",
      "DummyRegressor                       0.02  \n"
     ]
    },
    {
     "name": "stderr",
     "output_type": "stream",
     "text": [
      "\n"
     ]
    }
   ],
   "source": [
    "import pandas as pd\n",
    "import numpy as np\n",
    "\n",
    "from sklearn.utils import shuffle \n",
    "\n",
    "df = pd.read_csv(\"dataset/protected_features-regression.csv\")\n",
    "df = shuffle(df)\n",
    "\n",
    "df1 = df[[\"page_id\",\"total_edits\", \"number_page_watchers\"]]\n",
    "df1 = df[[\"page_id\"]]\n",
    "\n",
    "features = df1\n",
    "\n",
    "labels = np.array(df['protection_duration_days'])\n",
    "\n",
    "# Replace NaN\n",
    "features = features.replace('Fewer than 30 watchers',np.NaN)\n",
    "features = features.replace('There may or may not be a watching user visiting recent edits',np.NaN)\n",
    "\n",
    "#Convert cols to Float\n",
    "features['page_length'] = features['page_length'].astype(float)\n",
    "# features['total_edits'] = features['total_edits'].astype(float)\n",
    "# features['number_page_watchers'] = features['number_page_watchers'].astype(float)\n",
    "#features['number_page_watchers_recent_edits'] = features['number_page_watchers_recent_edits'].astype(float)\n",
    "\n",
    "# Saving feature names for later use\n",
    "feature_list = list(features.columns)\n",
    "\n",
    "# Convert to numpy array\n",
    "features = np.array(features)\n",
    "\n",
    "from sklearn.model_selection import train_test_split\n",
    "# Split the data into training and testing sets\n",
    "train_features, test_features, train_labels, test_labels = train_test_split(features, labels, test_size =0.20, random_state = 53)\n",
    "\n",
    "X_train = train_features\n",
    "y_train = train_labels\n",
    "X_test = test_features\n",
    "y_test = test_labels\n",
    "\n",
    "from lazypredict.Supervised import LazyRegressor\n",
    "\n",
    "reg = LazyRegressor(verbose=0, ignore_warnings=False, custom_metric=None)\n",
    "models, predictions = reg.fit(X_train, X_test, y_train, y_test)\n",
    "\n",
    "print(models)"
   ]
  },
  {
   "cell_type": "code",
   "execution_count": null,
   "metadata": {},
   "outputs": [],
   "source": []
  }
 ],
 "metadata": {
  "kernelspec": {
   "display_name": "Python 3",
   "language": "python",
   "name": "python3"
  },
  "language_info": {
   "codemirror_mode": {
    "name": "ipython",
    "version": 3
   },
   "file_extension": ".py",
   "mimetype": "text/x-python",
   "name": "python",
   "nbconvert_exporter": "python",
   "pygments_lexer": "ipython3",
   "version": "3.8.5"
  }
 },
 "nbformat": 4,
 "nbformat_minor": 4
}
