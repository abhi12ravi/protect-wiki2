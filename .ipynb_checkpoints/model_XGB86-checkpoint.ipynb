{
 "cells": [
  {
   "cell_type": "code",
   "execution_count": 2,
   "metadata": {},
   "outputs": [],
   "source": [
    "import pickle\n",
    "# save the model to disk\n",
    "filename = 'models/model_86.sav'\n",
    "\n",
    "# load the model from disk\n",
    "loaded_model = pickle.load(open(filename, 'rb'))\n",
    "\n"
   ]
  },
  {
   "cell_type": "code",
   "execution_count": 21,
   "metadata": {},
   "outputs": [],
   "source": [
    "def prepare_data(filepath):\n",
    "    import pandas as pd\n",
    "    import numpy as np\n",
    "    \n",
    "    df = pd.read_csv(filepath)\n",
    "    \n",
    "    features = df \n",
    "    labels = df['protection_status']\n",
    "    \n",
    "    list_drop_columns = ['page_id', 'page_title', 'page_id_scrapped', 'protection_status']\n",
    "    features = features.drop(list_drop_columns, axis=1)\n",
    "    \n",
    "    #Encoding string\n",
    "    #Encode string to float\n",
    "    features.loc[features['page_watchers'] == \"Fewer than 30 watchers\", 'page_watchers'] = -1\n",
    "    features.loc[features['page_watchers_recent_edits'] == \"There may or may not be a watching user visiting recent edits\", 'page_watchers_recent_edits'] = -2\n",
    "    features = features.fillna(-5)\n",
    "\n",
    "    #Convert String to Floats\n",
    "    features['page_length'] = features['page_length'].astype(float)\n",
    "    features['edit_count'] = features['edit_count'].astype(float)\n",
    "    features['page_watchers'] = features['page_watchers'].astype(float)\n",
    "    features['page_watchers_recent_edits'] = features['page_watchers_recent_edits'].astype(float)\n",
    "    \n",
    "    # Saving feature names for later use\n",
    "    feature_list = list(features.columns)\n",
    "\n",
    "    # Convert to numpy array\n",
    "    features = np.array(features)\n",
    "    \n",
    "    #Label encoding for protection_status column\n",
    "\n",
    "    # 0 => unprotected\n",
    "    # 1 => autoconfirmed\n",
    "    # 2 => extendedconfirmed\n",
    "    # 3 => sysop\n",
    "    labels_encoded = []\n",
    "    for item in labels:\n",
    "        if(item ==\"unprotected\"):\n",
    "            labels_encoded.append(0)\n",
    "        elif(item == \"autoconfirmed\"):\n",
    "            labels_encoded.append(1)\n",
    "        elif(item == \"extendedconfirmed\"):\n",
    "            labels_encoded.append(2)\n",
    "        elif(item == \"sysop\"):\n",
    "            labels_encoded.append(3)  \n",
    "    \n",
    "    from sklearn.model_selection import train_test_split\n",
    "    \n",
    "    train_features, test_features, train_labels, test_labels = train_test_split(features, labels_encoded, test_size = 0.20, random_state = 25)\n",
    "        \n",
    "    return train_features, test_features, train_labels, test_labels"
   ]
  },
  {
   "cell_type": "code",
   "execution_count": 22,
   "metadata": {},
   "outputs": [
    {
     "name": "stdout",
     "output_type": "stream",
     "text": [
      "Accuracy: 37.13%\n"
     ]
    }
   ],
   "source": [
    "from sklearn.metrics import accuracy_score\n",
    "filepath = \"../protect-wiki/dataset/balanced_dataset2.csv\"\n",
    "X_train, X_test, y_train, y_test = prepare_data(filepath)\n",
    "\n",
    "#Predict\n",
    "y_pred = loaded_model.predict(X_test)\n",
    "predictions = [round(value) for value in y_pred]\n",
    "\n",
    "\n",
    "#Evaluate\n",
    "accuracy = accuracy_score(y_test, predictions)\n",
    "print(\"Accuracy: %.2f%%\" % (accuracy * 100.0))"
   ]
  },
  {
   "cell_type": "code",
   "execution_count": 16,
   "metadata": {},
   "outputs": [],
   "source": [
    "import pandas as pd\n",
    "df = pd.read_csv(filepath)\n",
    "\n",
    "features = df"
   ]
  },
  {
   "cell_type": "code",
   "execution_count": 17,
   "metadata": {},
   "outputs": [
    {
     "data": {
      "text/plain": [
       "0                         194\n",
       "1                         135\n",
       "2                         264\n",
       "3                          32\n",
       "4                          46\n",
       "                ...          \n",
       "828                       112\n",
       "829    Fewer than 30 watchers\n",
       "830                        45\n",
       "831                        46\n",
       "832    Fewer than 30 watchers\n",
       "Name: page_watchers, Length: 833, dtype: object"
      ]
     },
     "execution_count": 17,
     "metadata": {},
     "output_type": "execute_result"
    }
   ],
   "source": [
    "features[\n",
    "    'page_watchers'\n",
    "]"
   ]
  },
  {
   "cell_type": "code",
   "execution_count": 18,
   "metadata": {},
   "outputs": [],
   "source": [
    "features.loc[features['page_watchers'] == \"Fewer than 30 watchers\", 'page_watchers'] = -1"
   ]
  },
  {
   "cell_type": "code",
   "execution_count": 19,
   "metadata": {},
   "outputs": [
    {
     "data": {
      "text/plain": [
       "0      194\n",
       "1      135\n",
       "2      264\n",
       "3       32\n",
       "4       46\n",
       "      ... \n",
       "828    112\n",
       "829     -1\n",
       "830     45\n",
       "831     46\n",
       "832     -1\n",
       "Name: page_watchers, Length: 833, dtype: object"
      ]
     },
     "execution_count": 19,
     "metadata": {},
     "output_type": "execute_result"
    }
   ],
   "source": [
    "features[\n",
    "    'page_watchers'\n",
    "]"
   ]
  },
  {
   "cell_type": "code",
   "execution_count": 20,
   "metadata": {},
   "outputs": [
    {
     "data": {
      "text/plain": [
       "0      194.0\n",
       "1      135.0\n",
       "2      264.0\n",
       "3       32.0\n",
       "4       46.0\n",
       "       ...  \n",
       "828    112.0\n",
       "829     -1.0\n",
       "830     45.0\n",
       "831     46.0\n",
       "832     -1.0\n",
       "Name: page_watchers, Length: 833, dtype: float64"
      ]
     },
     "execution_count": 20,
     "metadata": {},
     "output_type": "execute_result"
    }
   ],
   "source": [
    "features['page_watchers'].astype(float)"
   ]
  },
  {
   "cell_type": "code",
   "execution_count": null,
   "metadata": {},
   "outputs": [],
   "source": []
  }
 ],
 "metadata": {
  "kernelspec": {
   "display_name": "Python 3",
   "language": "python",
   "name": "python3"
  },
  "language_info": {
   "codemirror_mode": {
    "name": "ipython",
    "version": 3
   },
   "file_extension": ".py",
   "mimetype": "text/x-python",
   "name": "python",
   "nbconvert_exporter": "python",
   "pygments_lexer": "ipython3",
   "version": "3.8.5"
  }
 },
 "nbformat": 4,
 "nbformat_minor": 4
}
